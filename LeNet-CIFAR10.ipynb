{
  "nbformat": 4,
  "nbformat_minor": 0,
  "metadata": {
    "colab": {
      "provenance": [],
      "gpuType": "V28",
      "mount_file_id": "1wIzC4AMvC9DidR-Bo7WK4rz-z4QUW10u",
      "authorship_tag": "ABX9TyMPbS4uVZw9YVhZTZVbsjEK",
      "include_colab_link": true
    },
    "kernelspec": {
      "name": "python3",
      "display_name": "Python 3"
    },
    "language_info": {
      "name": "python"
    },
    "accelerator": "TPU",
    "widgets": {
      "application/vnd.jupyter.widget-state+json": {
        "a9cdffb0aeb944ec80283c4efeecc0e4": {
          "model_module": "@jupyter-widgets/controls",
          "model_name": "VBoxModel",
          "model_module_version": "1.5.0",
          "state": {
            "_dom_classes": [],
            "_model_module": "@jupyter-widgets/controls",
            "_model_module_version": "1.5.0",
            "_model_name": "VBoxModel",
            "_view_count": null,
            "_view_module": "@jupyter-widgets/controls",
            "_view_module_version": "1.5.0",
            "_view_name": "VBoxView",
            "box_style": "",
            "children": [
              "IPY_MODEL_b127b4d00d4e4d4fbe2d5050561a3416",
              "IPY_MODEL_999d0c2d7a344d01867d7ec0c9f4852c"
            ],
            "layout": "IPY_MODEL_86021606b94c4c8cac5a392b61dc2210"
          }
        },
        "b127b4d00d4e4d4fbe2d5050561a3416": {
          "model_module": "@jupyter-widgets/controls",
          "model_name": "LabelModel",
          "model_module_version": "1.5.0",
          "state": {
            "_dom_classes": [],
            "_model_module": "@jupyter-widgets/controls",
            "_model_module_version": "1.5.0",
            "_model_name": "LabelModel",
            "_view_count": null,
            "_view_module": "@jupyter-widgets/controls",
            "_view_module_version": "1.5.0",
            "_view_name": "LabelView",
            "description": "",
            "description_tooltip": null,
            "layout": "IPY_MODEL_26daad285bcf47d79ad099145654b586",
            "placeholder": "​",
            "style": "IPY_MODEL_23930946f02f474faf2255b63968cfc1",
            "value": "13.149 MB of 13.149 MB uploaded (0.320 MB deduped)\r"
          }
        },
        "999d0c2d7a344d01867d7ec0c9f4852c": {
          "model_module": "@jupyter-widgets/controls",
          "model_name": "FloatProgressModel",
          "model_module_version": "1.5.0",
          "state": {
            "_dom_classes": [],
            "_model_module": "@jupyter-widgets/controls",
            "_model_module_version": "1.5.0",
            "_model_name": "FloatProgressModel",
            "_view_count": null,
            "_view_module": "@jupyter-widgets/controls",
            "_view_module_version": "1.5.0",
            "_view_name": "ProgressView",
            "bar_style": "",
            "description": "",
            "description_tooltip": null,
            "layout": "IPY_MODEL_8e6915584d1240e189e6b8294dc2dd72",
            "max": 1,
            "min": 0,
            "orientation": "horizontal",
            "style": "IPY_MODEL_605522108a7e4c0c939bd8ce798d23bd",
            "value": 1
          }
        },
        "86021606b94c4c8cac5a392b61dc2210": {
          "model_module": "@jupyter-widgets/base",
          "model_name": "LayoutModel",
          "model_module_version": "1.2.0",
          "state": {
            "_model_module": "@jupyter-widgets/base",
            "_model_module_version": "1.2.0",
            "_model_name": "LayoutModel",
            "_view_count": null,
            "_view_module": "@jupyter-widgets/base",
            "_view_module_version": "1.2.0",
            "_view_name": "LayoutView",
            "align_content": null,
            "align_items": null,
            "align_self": null,
            "border": null,
            "bottom": null,
            "display": null,
            "flex": null,
            "flex_flow": null,
            "grid_area": null,
            "grid_auto_columns": null,
            "grid_auto_flow": null,
            "grid_auto_rows": null,
            "grid_column": null,
            "grid_gap": null,
            "grid_row": null,
            "grid_template_areas": null,
            "grid_template_columns": null,
            "grid_template_rows": null,
            "height": null,
            "justify_content": null,
            "justify_items": null,
            "left": null,
            "margin": null,
            "max_height": null,
            "max_width": null,
            "min_height": null,
            "min_width": null,
            "object_fit": null,
            "object_position": null,
            "order": null,
            "overflow": null,
            "overflow_x": null,
            "overflow_y": null,
            "padding": null,
            "right": null,
            "top": null,
            "visibility": null,
            "width": null
          }
        },
        "26daad285bcf47d79ad099145654b586": {
          "model_module": "@jupyter-widgets/base",
          "model_name": "LayoutModel",
          "model_module_version": "1.2.0",
          "state": {
            "_model_module": "@jupyter-widgets/base",
            "_model_module_version": "1.2.0",
            "_model_name": "LayoutModel",
            "_view_count": null,
            "_view_module": "@jupyter-widgets/base",
            "_view_module_version": "1.2.0",
            "_view_name": "LayoutView",
            "align_content": null,
            "align_items": null,
            "align_self": null,
            "border": null,
            "bottom": null,
            "display": null,
            "flex": null,
            "flex_flow": null,
            "grid_area": null,
            "grid_auto_columns": null,
            "grid_auto_flow": null,
            "grid_auto_rows": null,
            "grid_column": null,
            "grid_gap": null,
            "grid_row": null,
            "grid_template_areas": null,
            "grid_template_columns": null,
            "grid_template_rows": null,
            "height": null,
            "justify_content": null,
            "justify_items": null,
            "left": null,
            "margin": null,
            "max_height": null,
            "max_width": null,
            "min_height": null,
            "min_width": null,
            "object_fit": null,
            "object_position": null,
            "order": null,
            "overflow": null,
            "overflow_x": null,
            "overflow_y": null,
            "padding": null,
            "right": null,
            "top": null,
            "visibility": null,
            "width": null
          }
        },
        "23930946f02f474faf2255b63968cfc1": {
          "model_module": "@jupyter-widgets/controls",
          "model_name": "DescriptionStyleModel",
          "model_module_version": "1.5.0",
          "state": {
            "_model_module": "@jupyter-widgets/controls",
            "_model_module_version": "1.5.0",
            "_model_name": "DescriptionStyleModel",
            "_view_count": null,
            "_view_module": "@jupyter-widgets/base",
            "_view_module_version": "1.2.0",
            "_view_name": "StyleView",
            "description_width": ""
          }
        },
        "8e6915584d1240e189e6b8294dc2dd72": {
          "model_module": "@jupyter-widgets/base",
          "model_name": "LayoutModel",
          "model_module_version": "1.2.0",
          "state": {
            "_model_module": "@jupyter-widgets/base",
            "_model_module_version": "1.2.0",
            "_model_name": "LayoutModel",
            "_view_count": null,
            "_view_module": "@jupyter-widgets/base",
            "_view_module_version": "1.2.0",
            "_view_name": "LayoutView",
            "align_content": null,
            "align_items": null,
            "align_self": null,
            "border": null,
            "bottom": null,
            "display": null,
            "flex": null,
            "flex_flow": null,
            "grid_area": null,
            "grid_auto_columns": null,
            "grid_auto_flow": null,
            "grid_auto_rows": null,
            "grid_column": null,
            "grid_gap": null,
            "grid_row": null,
            "grid_template_areas": null,
            "grid_template_columns": null,
            "grid_template_rows": null,
            "height": null,
            "justify_content": null,
            "justify_items": null,
            "left": null,
            "margin": null,
            "max_height": null,
            "max_width": null,
            "min_height": null,
            "min_width": null,
            "object_fit": null,
            "object_position": null,
            "order": null,
            "overflow": null,
            "overflow_x": null,
            "overflow_y": null,
            "padding": null,
            "right": null,
            "top": null,
            "visibility": null,
            "width": null
          }
        },
        "605522108a7e4c0c939bd8ce798d23bd": {
          "model_module": "@jupyter-widgets/controls",
          "model_name": "ProgressStyleModel",
          "model_module_version": "1.5.0",
          "state": {
            "_model_module": "@jupyter-widgets/controls",
            "_model_module_version": "1.5.0",
            "_model_name": "ProgressStyleModel",
            "_view_count": null,
            "_view_module": "@jupyter-widgets/base",
            "_view_module_version": "1.2.0",
            "_view_name": "StyleView",
            "bar_color": null,
            "description_width": ""
          }
        }
      }
    }
  },
  "cells": [
    {
      "cell_type": "markdown",
      "metadata": {
        "id": "view-in-github",
        "colab_type": "text"
      },
      "source": [
        "<a href=\"https://colab.research.google.com/github/punitarani/ai-ml/blob/main/LeNet-CIFAR10.ipynb\" target=\"_parent\"><img src=\"https://colab.research.google.com/assets/colab-badge.svg\" alt=\"Open In Colab\"/></a>"
      ]
    },
    {
      "cell_type": "code",
      "execution_count": 12,
      "metadata": {
        "colab": {
          "base_uri": "https://localhost:8080/"
        },
        "id": "O0AAgn74yhjZ",
        "outputId": "902e4e05-42e9-4216-c18f-83193855a4ef"
      },
      "outputs": [
        {
          "output_type": "execute_result",
          "data": {
            "text/plain": [
              "True"
            ]
          },
          "metadata": {},
          "execution_count": 12
        }
      ],
      "source": [
        "!pip install wandb -qU\n",
        "import wandb\n",
        "wandb.login()"
      ]
    },
    {
      "cell_type": "code",
      "source": [
        "import tensorflow as tf\n",
        "from tensorflow.keras.layers import AveragePooling2D, Conv2D, Dense, Flatten\n",
        "from tensorflow.keras.models import Sequential\n",
        "from tensorflow.keras.datasets import cifar10"
      ],
      "metadata": {
        "id": "NEpfIjGVzp6I"
      },
      "execution_count": 13,
      "outputs": []
    },
    {
      "cell_type": "code",
      "source": [
        "# Load the CIFAR10 dataset\n",
        "(x_train, y_train), (x_test, y_test) = cifar10.load_data()\n",
        "\n",
        "# Preprocess the data\n",
        "x_train = x_train.astype('float32') / 255.0\n",
        "x_test = x_test.astype('float32') / 255.0"
      ],
      "metadata": {
        "id": "8zJSWeRzzqv6"
      },
      "execution_count": 14,
      "outputs": []
    },
    {
      "cell_type": "code",
      "source": [
        "# Initialize a WandB run\n",
        "run = wandb.init(\n",
        "    project=\"LeNet-CIFAR10\",\n",
        "    config={\n",
        "        \"architecture\": \"LeNet\",\n",
        "        \"dataset\": \"CIFAR10\",\n",
        "        \"optimizer\": \"sgd\",\n",
        "        \"loss\": \"sparse_categorical_crossentropy\",\n",
        "        \"metric\": \"accuracy\",\n",
        "        \"batch_size\": 32,\n",
        "        \"epochs\": 100\n",
        "    }\n",
        ")\n",
        "config = run.config"
      ],
      "metadata": {
        "colab": {
          "base_uri": "https://localhost:8080/",
          "height": 104
        },
        "id": "QHKQo3YS1Yzj",
        "outputId": "1f0bc334-31ea-40f4-ef42-0e70a980f8a7"
      },
      "execution_count": 15,
      "outputs": [
        {
          "output_type": "display_data",
          "data": {
            "text/plain": [
              "<IPython.core.display.HTML object>"
            ],
            "text/html": [
              "Tracking run with wandb version 0.17.0"
            ]
          },
          "metadata": {}
        },
        {
          "output_type": "display_data",
          "data": {
            "text/plain": [
              "<IPython.core.display.HTML object>"
            ],
            "text/html": [
              "Run data is saved locally in <code>/content/wandb/run-20240606_184851-bpewd6fw</code>"
            ]
          },
          "metadata": {}
        },
        {
          "output_type": "display_data",
          "data": {
            "text/plain": [
              "<IPython.core.display.HTML object>"
            ],
            "text/html": [
              "Syncing run <strong><a href='https://wandb.ai/parani/LeNet-CIFAR10/runs/bpewd6fw' target=\"_blank\">ancient-feather-2</a></strong> to <a href='https://wandb.ai/parani/LeNet-CIFAR10' target=\"_blank\">Weights & Biases</a> (<a href='https://wandb.me/run' target=\"_blank\">docs</a>)<br/>"
            ]
          },
          "metadata": {}
        },
        {
          "output_type": "display_data",
          "data": {
            "text/plain": [
              "<IPython.core.display.HTML object>"
            ],
            "text/html": [
              " View project at <a href='https://wandb.ai/parani/LeNet-CIFAR10' target=\"_blank\">https://wandb.ai/parani/LeNet-CIFAR10</a>"
            ]
          },
          "metadata": {}
        },
        {
          "output_type": "display_data",
          "data": {
            "text/plain": [
              "<IPython.core.display.HTML object>"
            ],
            "text/html": [
              " View run at <a href='https://wandb.ai/parani/LeNet-CIFAR10/runs/bpewd6fw' target=\"_blank\">https://wandb.ai/parani/LeNet-CIFAR10/runs/bpewd6fw</a>"
            ]
          },
          "metadata": {}
        }
      ]
    },
    {
      "cell_type": "code",
      "source": [
        "# Define the LeNet model\n",
        "model = Sequential([\n",
        "    Conv2D(6, (5, 5), activation='tanh'),\n",
        "    AveragePooling2D((2, 2)),\n",
        "    Conv2D(16, (5, 5), activation='tanh'),\n",
        "    AveragePooling2D((2, 2)),\n",
        "    Flatten(),\n",
        "    Dense(120, activation='tanh'),\n",
        "    Dense(84, activation='tanh'),\n",
        "    Dense(10, activation='softmax')\n",
        "])"
      ],
      "metadata": {
        "id": "jLc_pTL1zsHE"
      },
      "execution_count": 16,
      "outputs": []
    },
    {
      "cell_type": "code",
      "source": [
        "# Compile the model\n",
        "model.compile(loss=config.loss, optimizer=config.optimizer, metrics=[config.metric])"
      ],
      "metadata": {
        "id": "_hFf4KXK1VML"
      },
      "execution_count": 17,
      "outputs": []
    },
    {
      "cell_type": "code",
      "source": [
        "# Train the model\n",
        "model.fit(x_train, y_train, batch_size=config.batch_size, epochs=config.epochs, validation_data=(x_test, y_test), callbacks=[wandb.keras.WandbCallback()])\n",
        "\n",
        "# Finish the WandB run\n",
        "wandb.finish()"
      ],
      "metadata": {
        "colab": {
          "base_uri": "https://localhost:8080/",
          "height": 1000,
          "referenced_widgets": [
            "a9cdffb0aeb944ec80283c4efeecc0e4",
            "b127b4d00d4e4d4fbe2d5050561a3416",
            "999d0c2d7a344d01867d7ec0c9f4852c",
            "86021606b94c4c8cac5a392b61dc2210",
            "26daad285bcf47d79ad099145654b586",
            "23930946f02f474faf2255b63968cfc1",
            "8e6915584d1240e189e6b8294dc2dd72",
            "605522108a7e4c0c939bd8ce798d23bd"
          ]
        },
        "id": "oqrye_iG08jH",
        "outputId": "fa3f28ac-96e8-46fb-ca85-79c1cfa4742c"
      },
      "execution_count": 18,
      "outputs": [
        {
          "output_type": "stream",
          "name": "stdout",
          "text": [
            "Epoch 1/100\n",
            "1558/1563 [============================>.] - ETA: 0s - loss: 1.9289 - accuracy: 0.3018"
          ]
        },
        {
          "output_type": "stream",
          "name": "stderr",
          "text": [
            "/usr/local/lib/python3.10/dist-packages/keras/src/engine/training.py:3103: UserWarning: You are saving your model as an HDF5 file via `model.save()`. This file format is considered legacy. We recommend using instead the native Keras format, e.g. `model.save('my_model.keras')`.\n",
            "  saving_api.save_model(\n",
            "\u001b[34m\u001b[1mwandb\u001b[0m: Adding directory to artifact (/content/wandb/run-20240606_184851-bpewd6fw/files/model-best)... Done. 0.0s\n"
          ]
        },
        {
          "output_type": "stream",
          "name": "stdout",
          "text": [
            "\b\b\b\b\b\b\b\b\b\b\b\b\b\b\b\b\b\b\b\b\b\b\b\b\b\b\b\b\b\b\b\b\b\b\b\b\b\b\b\b\b\b\b\b\b\b\b\b\b\b\b\b\b\b\b\b\b\b\b\b\b\b\b\b\b\b\b\b\b\b\b\b\b\b\b\b\b\b\b\b\b\b\b\b\b\b\r1563/1563 [==============================] - 13s 8ms/step - loss: 1.9285 - accuracy: 0.3019 - val_loss: 1.7848 - val_accuracy: 0.3657\n",
            "Epoch 2/100\n",
            "1562/1563 [============================>.] - ETA: 0s - loss: 1.7358 - accuracy: 0.3869"
          ]
        },
        {
          "output_type": "stream",
          "name": "stderr",
          "text": [
            "/usr/local/lib/python3.10/dist-packages/keras/src/engine/training.py:3103: UserWarning: You are saving your model as an HDF5 file via `model.save()`. This file format is considered legacy. We recommend using instead the native Keras format, e.g. `model.save('my_model.keras')`.\n",
            "  saving_api.save_model(\n",
            "\u001b[34m\u001b[1mwandb\u001b[0m: Adding directory to artifact (/content/wandb/run-20240606_184851-bpewd6fw/files/model-best)... Done. 0.0s\n"
          ]
        },
        {
          "output_type": "stream",
          "name": "stdout",
          "text": [
            "\b\b\b\b\b\b\b\b\b\b\b\b\b\b\b\b\b\b\b\b\b\b\b\b\b\b\b\b\b\b\b\b\b\b\b\b\b\b\b\b\b\b\b\b\b\b\b\b\b\b\b\b\b\b\b\b\b\b\b\b\b\b\b\b\b\b\b\b\b\b\b\b\b\b\b\b\b\b\b\b\b\b\b\b\b\b\r1563/1563 [==============================] - 13s 8ms/step - loss: 1.7359 - accuracy: 0.3869 - val_loss: 1.6873 - val_accuracy: 0.3947\n",
            "Epoch 3/100\n",
            "1561/1563 [============================>.] - ETA: 0s - loss: 1.6544 - accuracy: 0.4141"
          ]
        },
        {
          "output_type": "stream",
          "name": "stderr",
          "text": [
            "/usr/local/lib/python3.10/dist-packages/keras/src/engine/training.py:3103: UserWarning: You are saving your model as an HDF5 file via `model.save()`. This file format is considered legacy. We recommend using instead the native Keras format, e.g. `model.save('my_model.keras')`.\n",
            "  saving_api.save_model(\n",
            "\u001b[34m\u001b[1mwandb\u001b[0m: Adding directory to artifact (/content/wandb/run-20240606_184851-bpewd6fw/files/model-best)... Done. 0.0s\n"
          ]
        },
        {
          "output_type": "stream",
          "name": "stdout",
          "text": [
            "\b\b\b\b\b\b\b\b\b\b\b\b\b\b\b\b\b\b\b\b\b\b\b\b\b\b\b\b\b\b\b\b\b\b\b\b\b\b\b\b\b\b\b\b\b\b\b\b\b\b\b\b\b\b\b\b\b\b\b\b\b\b\b\b\b\b\b\b\b\b\b\b\b\b\b\b\b\b\b\b\b\b\b\b\b\b\r1563/1563 [==============================] - 12s 8ms/step - loss: 1.6545 - accuracy: 0.4141 - val_loss: 1.6135 - val_accuracy: 0.4203\n",
            "Epoch 4/100\n",
            "1557/1563 [============================>.] - ETA: 0s - loss: 1.5834 - accuracy: 0.4385"
          ]
        },
        {
          "output_type": "stream",
          "name": "stderr",
          "text": [
            "/usr/local/lib/python3.10/dist-packages/keras/src/engine/training.py:3103: UserWarning: You are saving your model as an HDF5 file via `model.save()`. This file format is considered legacy. We recommend using instead the native Keras format, e.g. `model.save('my_model.keras')`.\n",
            "  saving_api.save_model(\n",
            "\u001b[34m\u001b[1mwandb\u001b[0m: Adding directory to artifact (/content/wandb/run-20240606_184851-bpewd6fw/files/model-best)... Done. 0.0s\n"
          ]
        },
        {
          "output_type": "stream",
          "name": "stdout",
          "text": [
            "\b\b\b\b\b\b\b\b\b\b\b\b\b\b\b\b\b\b\b\b\b\b\b\b\b\b\b\b\b\b\b\b\b\b\b\b\b\b\b\b\b\b\b\b\b\b\b\b\b\b\b\b\b\b\b\b\b\b\b\b\b\b\b\b\b\b\b\b\b\b\b\b\b\b\b\b\b\b\b\b\b\b\b\b\b\b\r1563/1563 [==============================] - 12s 8ms/step - loss: 1.5832 - accuracy: 0.4387 - val_loss: 1.5578 - val_accuracy: 0.4381\n",
            "Epoch 5/100\n",
            "1556/1563 [============================>.] - ETA: 0s - loss: 1.5168 - accuracy: 0.4619"
          ]
        },
        {
          "output_type": "stream",
          "name": "stderr",
          "text": [
            "/usr/local/lib/python3.10/dist-packages/keras/src/engine/training.py:3103: UserWarning: You are saving your model as an HDF5 file via `model.save()`. This file format is considered legacy. We recommend using instead the native Keras format, e.g. `model.save('my_model.keras')`.\n",
            "  saving_api.save_model(\n",
            "\u001b[34m\u001b[1mwandb\u001b[0m: Adding directory to artifact (/content/wandb/run-20240606_184851-bpewd6fw/files/model-best)... Done. 0.0s\n"
          ]
        },
        {
          "output_type": "stream",
          "name": "stdout",
          "text": [
            "\b\b\b\b\b\b\b\b\b\b\b\b\b\b\b\b\b\b\b\b\b\b\b\b\b\b\b\b\b\b\b\b\b\b\b\b\b\b\b\b\b\b\b\b\b\b\b\b\b\b\b\b\b\b\b\b\b\b\b\b\b\b\b\b\b\b\b\b\b\b\b\b\b\b\b\b\b\b\b\b\b\b\b\b\b\b\r1563/1563 [==============================] - 12s 8ms/step - loss: 1.5165 - accuracy: 0.4619 - val_loss: 1.5003 - val_accuracy: 0.4625\n",
            "Epoch 6/100\n",
            "1556/1563 [============================>.] - ETA: 0s - loss: 1.4582 - accuracy: 0.4801"
          ]
        },
        {
          "output_type": "stream",
          "name": "stderr",
          "text": [
            "/usr/local/lib/python3.10/dist-packages/keras/src/engine/training.py:3103: UserWarning: You are saving your model as an HDF5 file via `model.save()`. This file format is considered legacy. We recommend using instead the native Keras format, e.g. `model.save('my_model.keras')`.\n",
            "  saving_api.save_model(\n",
            "\u001b[34m\u001b[1mwandb\u001b[0m: Adding directory to artifact (/content/wandb/run-20240606_184851-bpewd6fw/files/model-best)... Done. 0.0s\n"
          ]
        },
        {
          "output_type": "stream",
          "name": "stdout",
          "text": [
            "\b\b\b\b\b\b\b\b\b\b\b\b\b\b\b\b\b\b\b\b\b\b\b\b\b\b\b\b\b\b\b\b\b\b\b\b\b\b\b\b\b\b\b\b\b\b\b\b\b\b\b\b\b\b\b\b\b\b\b\b\b\b\b\b\b\b\b\b\b\b\b\b\b\b\b\b\b\b\b\b\b\b\b\b\b\b\r1563/1563 [==============================] - 12s 8ms/step - loss: 1.4580 - accuracy: 0.4804 - val_loss: 1.4518 - val_accuracy: 0.4804\n",
            "Epoch 7/100\n",
            "1556/1563 [============================>.] - ETA: 0s - loss: 1.4033 - accuracy: 0.5006"
          ]
        },
        {
          "output_type": "stream",
          "name": "stderr",
          "text": [
            "/usr/local/lib/python3.10/dist-packages/keras/src/engine/training.py:3103: UserWarning: You are saving your model as an HDF5 file via `model.save()`. This file format is considered legacy. We recommend using instead the native Keras format, e.g. `model.save('my_model.keras')`.\n",
            "  saving_api.save_model(\n",
            "\u001b[34m\u001b[1mwandb\u001b[0m: Adding directory to artifact (/content/wandb/run-20240606_184851-bpewd6fw/files/model-best)... Done. 0.0s\n"
          ]
        },
        {
          "output_type": "stream",
          "name": "stdout",
          "text": [
            "\b\b\b\b\b\b\b\b\b\b\b\b\b\b\b\b\b\b\b\b\b\b\b\b\b\b\b\b\b\b\b\b\b\b\b\b\b\b\b\b\b\b\b\b\b\b\b\b\b\b\b\b\b\b\b\b\b\b\b\b\b\b\b\b\b\b\b\b\b\b\b\b\b\b\b\b\b\b\b\b\b\b\b\b\b\b\r1563/1563 [==============================] - 12s 8ms/step - loss: 1.4031 - accuracy: 0.5005 - val_loss: 1.4034 - val_accuracy: 0.4927\n",
            "Epoch 8/100\n",
            "1562/1563 [============================>.] - ETA: 0s - loss: 1.3566 - accuracy: 0.5130"
          ]
        },
        {
          "output_type": "stream",
          "name": "stderr",
          "text": [
            "/usr/local/lib/python3.10/dist-packages/keras/src/engine/training.py:3103: UserWarning: You are saving your model as an HDF5 file via `model.save()`. This file format is considered legacy. We recommend using instead the native Keras format, e.g. `model.save('my_model.keras')`.\n",
            "  saving_api.save_model(\n",
            "\u001b[34m\u001b[1mwandb\u001b[0m: Adding directory to artifact (/content/wandb/run-20240606_184851-bpewd6fw/files/model-best)... Done. 0.0s\n"
          ]
        },
        {
          "output_type": "stream",
          "name": "stdout",
          "text": [
            "\b\b\b\b\b\b\b\b\b\b\b\b\b\b\b\b\b\b\b\b\b\b\b\b\b\b\b\b\b\b\b\b\b\b\b\b\b\b\b\b\b\b\b\b\b\b\b\b\b\b\b\b\b\b\b\b\b\b\b\b\b\b\b\b\b\b\b\b\b\b\b\b\b\b\b\b\b\b\b\b\b\b\b\b\b\b\r1563/1563 [==============================] - 12s 8ms/step - loss: 1.3565 - accuracy: 0.5130 - val_loss: 1.3610 - val_accuracy: 0.5089\n",
            "Epoch 9/100\n",
            "1560/1563 [============================>.] - ETA: 0s - loss: 1.3195 - accuracy: 0.5292"
          ]
        },
        {
          "output_type": "stream",
          "name": "stderr",
          "text": [
            "/usr/local/lib/python3.10/dist-packages/keras/src/engine/training.py:3103: UserWarning: You are saving your model as an HDF5 file via `model.save()`. This file format is considered legacy. We recommend using instead the native Keras format, e.g. `model.save('my_model.keras')`.\n",
            "  saving_api.save_model(\n",
            "\u001b[34m\u001b[1mwandb\u001b[0m: Adding directory to artifact (/content/wandb/run-20240606_184851-bpewd6fw/files/model-best)... Done. 0.0s\n"
          ]
        },
        {
          "output_type": "stream",
          "name": "stdout",
          "text": [
            "\b\b\b\b\b\b\b\b\b\b\b\b\b\b\b\b\b\b\b\b\b\b\b\b\b\b\b\b\b\b\b\b\b\b\b\b\b\b\b\b\b\b\b\b\b\b\b\b\b\b\b\b\b\b\b\b\b\b\b\b\b\b\b\b\b\b\b\b\b\b\b\b\b\b\b\b\b\b\b\b\b\b\b\b\b\b\r1563/1563 [==============================] - 12s 8ms/step - loss: 1.3197 - accuracy: 0.5291 - val_loss: 1.3445 - val_accuracy: 0.5191\n",
            "Epoch 10/100\n",
            "1557/1563 [============================>.] - ETA: 0s - loss: 1.2898 - accuracy: 0.5393"
          ]
        },
        {
          "output_type": "stream",
          "name": "stderr",
          "text": [
            "/usr/local/lib/python3.10/dist-packages/keras/src/engine/training.py:3103: UserWarning: You are saving your model as an HDF5 file via `model.save()`. This file format is considered legacy. We recommend using instead the native Keras format, e.g. `model.save('my_model.keras')`.\n",
            "  saving_api.save_model(\n",
            "\u001b[34m\u001b[1mwandb\u001b[0m: Adding directory to artifact (/content/wandb/run-20240606_184851-bpewd6fw/files/model-best)... Done. 0.0s\n"
          ]
        },
        {
          "output_type": "stream",
          "name": "stdout",
          "text": [
            "\b\b\b\b\b\b\b\b\b\b\b\b\b\b\b\b\b\b\b\b\b\b\b\b\b\b\b\b\b\b\b\b\b\b\b\b\b\b\b\b\b\b\b\b\b\b\b\b\b\b\b\b\b\b\b\b\b\b\b\b\b\b\b\b\b\b\b\b\b\b\b\b\b\b\b\b\b\b\b\b\b\b\b\b\b\b\r1563/1563 [==============================] - 13s 8ms/step - loss: 1.2896 - accuracy: 0.5395 - val_loss: 1.3035 - val_accuracy: 0.5330\n",
            "Epoch 11/100\n",
            "1563/1563 [==============================] - ETA: 0s - loss: 1.2604 - accuracy: 0.5524"
          ]
        },
        {
          "output_type": "stream",
          "name": "stderr",
          "text": [
            "/usr/local/lib/python3.10/dist-packages/keras/src/engine/training.py:3103: UserWarning: You are saving your model as an HDF5 file via `model.save()`. This file format is considered legacy. We recommend using instead the native Keras format, e.g. `model.save('my_model.keras')`.\n",
            "  saving_api.save_model(\n",
            "\u001b[34m\u001b[1mwandb\u001b[0m: Adding directory to artifact (/content/wandb/run-20240606_184851-bpewd6fw/files/model-best)... Done. 0.0s\n"
          ]
        },
        {
          "output_type": "stream",
          "name": "stdout",
          "text": [
            "\b\b\b\b\b\b\b\b\b\b\b\b\b\b\b\b\b\b\b\b\b\b\b\b\b\b\b\b\b\b\b\b\b\b\b\b\b\b\b\b\b\b\b\b\b\b\b\b\b\b\b\b\b\b\b\b\b\b\b\b\b\b\b\b\b\b\b\b\b\b\b\b\b\b\b\b\b\b\b\b\b\b\b\b\b\b\r1563/1563 [==============================] - 12s 8ms/step - loss: 1.2604 - accuracy: 0.5524 - val_loss: 1.2828 - val_accuracy: 0.5392\n",
            "Epoch 12/100\n",
            "1563/1563 [==============================] - ETA: 0s - loss: 1.2365 - accuracy: 0.5632"
          ]
        },
        {
          "output_type": "stream",
          "name": "stderr",
          "text": [
            "/usr/local/lib/python3.10/dist-packages/keras/src/engine/training.py:3103: UserWarning: You are saving your model as an HDF5 file via `model.save()`. This file format is considered legacy. We recommend using instead the native Keras format, e.g. `model.save('my_model.keras')`.\n",
            "  saving_api.save_model(\n",
            "\u001b[34m\u001b[1mwandb\u001b[0m: Adding directory to artifact (/content/wandb/run-20240606_184851-bpewd6fw/files/model-best)... Done. 0.0s\n"
          ]
        },
        {
          "output_type": "stream",
          "name": "stdout",
          "text": [
            "\b\b\b\b\b\b\b\b\b\b\b\b\b\b\b\b\b\b\b\b\b\b\b\b\b\b\b\b\b\b\b\b\b\b\b\b\b\b\b\b\b\b\b\b\b\b\b\b\b\b\b\b\b\b\b\b\b\b\b\b\b\b\b\b\b\b\b\b\b\b\b\b\b\b\b\b\b\b\b\b\b\b\b\b\b\b\r1563/1563 [==============================] - 12s 8ms/step - loss: 1.2365 - accuracy: 0.5632 - val_loss: 1.2809 - val_accuracy: 0.5468\n",
            "Epoch 13/100\n",
            "1563/1563 [==============================] - 11s 7ms/step - loss: 1.2143 - accuracy: 0.5695 - val_loss: 1.3083 - val_accuracy: 0.5312\n",
            "Epoch 14/100\n",
            "1558/1563 [============================>.] - ETA: 0s - loss: 1.1933 - accuracy: 0.5773"
          ]
        },
        {
          "output_type": "stream",
          "name": "stderr",
          "text": [
            "/usr/local/lib/python3.10/dist-packages/keras/src/engine/training.py:3103: UserWarning: You are saving your model as an HDF5 file via `model.save()`. This file format is considered legacy. We recommend using instead the native Keras format, e.g. `model.save('my_model.keras')`.\n",
            "  saving_api.save_model(\n",
            "\u001b[34m\u001b[1mwandb\u001b[0m: Adding directory to artifact (/content/wandb/run-20240606_184851-bpewd6fw/files/model-best)... Done. 0.0s\n"
          ]
        },
        {
          "output_type": "stream",
          "name": "stdout",
          "text": [
            "\b\b\b\b\b\b\b\b\b\b\b\b\b\b\b\b\b\b\b\b\b\b\b\b\b\b\b\b\b\b\b\b\b\b\b\b\b\b\b\b\b\b\b\b\b\b\b\b\b\b\b\b\b\b\b\b\b\b\b\b\b\b\b\b\b\b\b\b\b\b\b\b\b\b\b\b\b\b\b\b\b\b\b\b\b\b\r1563/1563 [==============================] - 12s 8ms/step - loss: 1.1930 - accuracy: 0.5774 - val_loss: 1.2461 - val_accuracy: 0.5540\n",
            "Epoch 15/100\n",
            "1563/1563 [==============================] - 11s 7ms/step - loss: 1.1723 - accuracy: 0.5861 - val_loss: 1.2926 - val_accuracy: 0.5431\n",
            "Epoch 16/100\n",
            "1556/1563 [============================>.] - ETA: 0s - loss: 1.1543 - accuracy: 0.5931"
          ]
        },
        {
          "output_type": "stream",
          "name": "stderr",
          "text": [
            "/usr/local/lib/python3.10/dist-packages/keras/src/engine/training.py:3103: UserWarning: You are saving your model as an HDF5 file via `model.save()`. This file format is considered legacy. We recommend using instead the native Keras format, e.g. `model.save('my_model.keras')`.\n",
            "  saving_api.save_model(\n",
            "\u001b[34m\u001b[1mwandb\u001b[0m: Adding directory to artifact (/content/wandb/run-20240606_184851-bpewd6fw/files/model-best)... Done. 0.0s\n"
          ]
        },
        {
          "output_type": "stream",
          "name": "stdout",
          "text": [
            "\b\b\b\b\b\b\b\b\b\b\b\b\b\b\b\b\b\b\b\b\b\b\b\b\b\b\b\b\b\b\b\b\b\b\b\b\b\b\b\b\b\b\b\b\b\b\b\b\b\b\b\b\b\b\b\b\b\b\b\b\b\b\b\b\b\b\b\b\b\b\b\b\b\b\b\b\b\b\b\b\b\b\b\b\b\b\r1563/1563 [==============================] - 12s 8ms/step - loss: 1.1543 - accuracy: 0.5932 - val_loss: 1.2296 - val_accuracy: 0.5650\n",
            "Epoch 17/100\n",
            "1559/1563 [============================>.] - ETA: 0s - loss: 1.1367 - accuracy: 0.5986"
          ]
        },
        {
          "output_type": "stream",
          "name": "stderr",
          "text": [
            "/usr/local/lib/python3.10/dist-packages/keras/src/engine/training.py:3103: UserWarning: You are saving your model as an HDF5 file via `model.save()`. This file format is considered legacy. We recommend using instead the native Keras format, e.g. `model.save('my_model.keras')`.\n",
            "  saving_api.save_model(\n",
            "\u001b[34m\u001b[1mwandb\u001b[0m: Adding directory to artifact (/content/wandb/run-20240606_184851-bpewd6fw/files/model-best)... Done. 0.0s\n"
          ]
        },
        {
          "output_type": "stream",
          "name": "stdout",
          "text": [
            "\b\b\b\b\b\b\b\b\b\b\b\b\b\b\b\b\b\b\b\b\b\b\b\b\b\b\b\b\b\b\b\b\b\b\b\b\b\b\b\b\b\b\b\b\b\b\b\b\b\b\b\b\b\b\b\b\b\b\b\b\b\b\b\b\b\b\b\b\b\b\b\b\b\b\b\b\b\b\b\b\b\b\b\b\b\b\r1563/1563 [==============================] - 12s 8ms/step - loss: 1.1368 - accuracy: 0.5985 - val_loss: 1.2258 - val_accuracy: 0.5666\n",
            "Epoch 18/100\n",
            "1563/1563 [==============================] - 12s 8ms/step - loss: 1.1203 - accuracy: 0.6041 - val_loss: 1.2373 - val_accuracy: 0.5618\n",
            "Epoch 19/100\n",
            "1560/1563 [============================>.] - ETA: 0s - loss: 1.1066 - accuracy: 0.6112"
          ]
        },
        {
          "output_type": "stream",
          "name": "stderr",
          "text": [
            "/usr/local/lib/python3.10/dist-packages/keras/src/engine/training.py:3103: UserWarning: You are saving your model as an HDF5 file via `model.save()`. This file format is considered legacy. We recommend using instead the native Keras format, e.g. `model.save('my_model.keras')`.\n",
            "  saving_api.save_model(\n",
            "\u001b[34m\u001b[1mwandb\u001b[0m: Adding directory to artifact (/content/wandb/run-20240606_184851-bpewd6fw/files/model-best)... Done. 0.0s\n"
          ]
        },
        {
          "output_type": "stream",
          "name": "stdout",
          "text": [
            "\b\b\b\b\b\b\b\b\b\b\b\b\b\b\b\b\b\b\b\b\b\b\b\b\b\b\b\b\b\b\b\b\b\b\b\b\b\b\b\b\b\b\b\b\b\b\b\b\b\b\b\b\b\b\b\b\b\b\b\b\b\b\b\b\b\b\b\b\b\b\b\b\b\b\b\b\b\b\b\b\b\b\b\b\b\b\r1563/1563 [==============================] - 12s 8ms/step - loss: 1.1067 - accuracy: 0.6111 - val_loss: 1.2137 - val_accuracy: 0.5727\n",
            "Epoch 20/100\n",
            "1559/1563 [============================>.] - ETA: 0s - loss: 1.0920 - accuracy: 0.6151"
          ]
        },
        {
          "output_type": "stream",
          "name": "stderr",
          "text": [
            "/usr/local/lib/python3.10/dist-packages/keras/src/engine/training.py:3103: UserWarning: You are saving your model as an HDF5 file via `model.save()`. This file format is considered legacy. We recommend using instead the native Keras format, e.g. `model.save('my_model.keras')`.\n",
            "  saving_api.save_model(\n",
            "\u001b[34m\u001b[1mwandb\u001b[0m: Adding directory to artifact (/content/wandb/run-20240606_184851-bpewd6fw/files/model-best)... Done. 0.0s\n"
          ]
        },
        {
          "output_type": "stream",
          "name": "stdout",
          "text": [
            "\b\b\b\b\b\b\b\b\b\b\b\b\b\b\b\b\b\b\b\b\b\b\b\b\b\b\b\b\b\b\b\b\b\b\b\b\b\b\b\b\b\b\b\b\b\b\b\b\b\b\b\b\b\b\b\b\b\b\b\b\b\b\b\b\b\b\b\b\b\b\b\b\b\b\b\b\b\b\b\b\b\b\b\b\b\b\r1563/1563 [==============================] - 12s 8ms/step - loss: 1.0920 - accuracy: 0.6152 - val_loss: 1.2005 - val_accuracy: 0.5795\n",
            "Epoch 21/100\n",
            "1563/1563 [==============================] - 11s 7ms/step - loss: 1.0768 - accuracy: 0.6213 - val_loss: 1.2121 - val_accuracy: 0.5727\n",
            "Epoch 22/100\n",
            "1563/1563 [==============================] - 11s 7ms/step - loss: 1.0630 - accuracy: 0.6261 - val_loss: 1.2165 - val_accuracy: 0.5642\n",
            "Epoch 23/100\n",
            "1563/1563 [==============================] - 11s 7ms/step - loss: 1.0505 - accuracy: 0.6305 - val_loss: 1.2132 - val_accuracy: 0.5784\n",
            "Epoch 24/100\n",
            "1563/1563 [==============================] - ETA: 0s - loss: 1.0379 - accuracy: 0.6354"
          ]
        },
        {
          "output_type": "stream",
          "name": "stderr",
          "text": [
            "/usr/local/lib/python3.10/dist-packages/keras/src/engine/training.py:3103: UserWarning: You are saving your model as an HDF5 file via `model.save()`. This file format is considered legacy. We recommend using instead the native Keras format, e.g. `model.save('my_model.keras')`.\n",
            "  saving_api.save_model(\n",
            "\u001b[34m\u001b[1mwandb\u001b[0m: Adding directory to artifact (/content/wandb/run-20240606_184851-bpewd6fw/files/model-best)... Done. 0.0s\n"
          ]
        },
        {
          "output_type": "stream",
          "name": "stdout",
          "text": [
            "\b\b\b\b\b\b\b\b\b\b\b\b\b\b\b\b\b\b\b\b\b\b\b\b\b\b\b\b\b\b\b\b\b\b\b\b\b\b\b\b\b\b\b\b\b\b\b\b\b\b\b\b\b\b\b\b\b\b\b\b\b\b\b\b\b\b\b\b\b\b\b\b\b\b\b\b\b\b\b\b\b\b\b\b\b\b\r1563/1563 [==============================] - 12s 8ms/step - loss: 1.0379 - accuracy: 0.6354 - val_loss: 1.1919 - val_accuracy: 0.5785\n",
            "Epoch 25/100\n",
            "1563/1563 [==============================] - ETA: 0s - loss: 1.0258 - accuracy: 0.6388"
          ]
        },
        {
          "output_type": "stream",
          "name": "stderr",
          "text": [
            "/usr/local/lib/python3.10/dist-packages/keras/src/engine/training.py:3103: UserWarning: You are saving your model as an HDF5 file via `model.save()`. This file format is considered legacy. We recommend using instead the native Keras format, e.g. `model.save('my_model.keras')`.\n",
            "  saving_api.save_model(\n",
            "\u001b[34m\u001b[1mwandb\u001b[0m: Adding directory to artifact (/content/wandb/run-20240606_184851-bpewd6fw/files/model-best)... Done. 0.0s\n"
          ]
        },
        {
          "output_type": "stream",
          "name": "stdout",
          "text": [
            "\b\b\b\b\b\b\b\b\b\b\b\b\b\b\b\b\b\b\b\b\b\b\b\b\b\b\b\b\b\b\b\b\b\b\b\b\b\b\b\b\b\b\b\b\b\b\b\b\b\b\b\b\b\b\b\b\b\b\b\b\b\b\b\b\b\b\b\b\b\b\b\b\b\b\b\b\b\b\b\b\b\b\b\b\b\b\r1563/1563 [==============================] - 13s 8ms/step - loss: 1.0258 - accuracy: 0.6388 - val_loss: 1.1762 - val_accuracy: 0.5851\n",
            "Epoch 26/100\n",
            "1563/1563 [==============================] - 12s 7ms/step - loss: 1.0151 - accuracy: 0.6437 - val_loss: 1.2057 - val_accuracy: 0.5773\n",
            "Epoch 27/100\n",
            "1558/1563 [============================>.] - ETA: 0s - loss: 1.0017 - accuracy: 0.6474"
          ]
        },
        {
          "output_type": "stream",
          "name": "stderr",
          "text": [
            "/usr/local/lib/python3.10/dist-packages/keras/src/engine/training.py:3103: UserWarning: You are saving your model as an HDF5 file via `model.save()`. This file format is considered legacy. We recommend using instead the native Keras format, e.g. `model.save('my_model.keras')`.\n",
            "  saving_api.save_model(\n",
            "\u001b[34m\u001b[1mwandb\u001b[0m: Adding directory to artifact (/content/wandb/run-20240606_184851-bpewd6fw/files/model-best)... Done. 0.0s\n"
          ]
        },
        {
          "output_type": "stream",
          "name": "stdout",
          "text": [
            "\b\b\b\b\b\b\b\b\b\b\b\b\b\b\b\b\b\b\b\b\b\b\b\b\b\b\b\b\b\b\b\b\b\b\b\b\b\b\b\b\b\b\b\b\b\b\b\b\b\b\b\b\b\b\b\b\b\b\b\b\b\b\b\b\b\b\b\b\b\b\b\b\b\b\b\b\b\b\b\b\b\b\b\b\b\b\r1563/1563 [==============================] - 12s 8ms/step - loss: 1.0018 - accuracy: 0.6473 - val_loss: 1.1755 - val_accuracy: 0.5838\n",
            "Epoch 28/100\n",
            "1563/1563 [==============================] - 12s 7ms/step - loss: 0.9916 - accuracy: 0.6516 - val_loss: 1.1988 - val_accuracy: 0.5823\n",
            "Epoch 29/100\n",
            "1563/1563 [==============================] - 12s 7ms/step - loss: 0.9815 - accuracy: 0.6547 - val_loss: 1.1835 - val_accuracy: 0.5840\n",
            "Epoch 30/100\n",
            "1563/1563 [==============================] - 11s 7ms/step - loss: 0.9702 - accuracy: 0.6597 - val_loss: 1.1983 - val_accuracy: 0.5832\n",
            "Epoch 31/100\n",
            "1563/1563 [==============================] - 11s 7ms/step - loss: 0.9601 - accuracy: 0.6624 - val_loss: 1.2250 - val_accuracy: 0.5724\n",
            "Epoch 32/100\n",
            "1563/1563 [==============================] - 11s 7ms/step - loss: 0.9504 - accuracy: 0.6643 - val_loss: 1.2126 - val_accuracy: 0.5791\n",
            "Epoch 33/100\n",
            "1563/1563 [==============================] - 11s 7ms/step - loss: 0.9407 - accuracy: 0.6689 - val_loss: 1.2233 - val_accuracy: 0.5738\n",
            "Epoch 34/100\n",
            "1563/1563 [==============================] - 11s 7ms/step - loss: 0.9314 - accuracy: 0.6704 - val_loss: 1.1997 - val_accuracy: 0.5877\n",
            "Epoch 35/100\n",
            "1563/1563 [==============================] - 11s 7ms/step - loss: 0.9199 - accuracy: 0.6785 - val_loss: 1.1909 - val_accuracy: 0.5862\n",
            "Epoch 36/100\n",
            "1563/1563 [==============================] - 11s 7ms/step - loss: 0.9114 - accuracy: 0.6798 - val_loss: 1.1941 - val_accuracy: 0.5870\n",
            "Epoch 37/100\n",
            "1563/1563 [==============================] - 12s 7ms/step - loss: 0.9028 - accuracy: 0.6845 - val_loss: 1.2138 - val_accuracy: 0.5818\n",
            "Epoch 38/100\n",
            "1563/1563 [==============================] - 12s 7ms/step - loss: 0.8934 - accuracy: 0.6886 - val_loss: 1.2045 - val_accuracy: 0.5905\n",
            "Epoch 39/100\n",
            "1563/1563 [==============================] - 11s 7ms/step - loss: 0.8844 - accuracy: 0.6917 - val_loss: 1.2154 - val_accuracy: 0.5867\n",
            "Epoch 40/100\n",
            "1563/1563 [==============================] - 12s 7ms/step - loss: 0.8756 - accuracy: 0.6943 - val_loss: 1.2115 - val_accuracy: 0.5863\n",
            "Epoch 41/100\n",
            "1563/1563 [==============================] - 12s 7ms/step - loss: 0.8660 - accuracy: 0.6962 - val_loss: 1.1924 - val_accuracy: 0.5930\n",
            "Epoch 42/100\n",
            "1563/1563 [==============================] - 11s 7ms/step - loss: 0.8563 - accuracy: 0.7018 - val_loss: 1.2124 - val_accuracy: 0.5911\n",
            "Epoch 43/100\n",
            "1563/1563 [==============================] - 12s 7ms/step - loss: 0.8476 - accuracy: 0.7052 - val_loss: 1.2190 - val_accuracy: 0.5890\n",
            "Epoch 44/100\n",
            "1563/1563 [==============================] - 12s 8ms/step - loss: 0.8411 - accuracy: 0.7057 - val_loss: 1.2123 - val_accuracy: 0.5891\n",
            "Epoch 45/100\n",
            "1563/1563 [==============================] - 12s 8ms/step - loss: 0.8309 - accuracy: 0.7098 - val_loss: 1.2564 - val_accuracy: 0.5815\n",
            "Epoch 46/100\n",
            "1563/1563 [==============================] - 12s 7ms/step - loss: 0.8233 - accuracy: 0.7130 - val_loss: 1.2442 - val_accuracy: 0.5854\n",
            "Epoch 47/100\n",
            "1563/1563 [==============================] - 11s 7ms/step - loss: 0.8146 - accuracy: 0.7158 - val_loss: 1.2621 - val_accuracy: 0.5755\n",
            "Epoch 48/100\n",
            "1563/1563 [==============================] - 11s 7ms/step - loss: 0.8056 - accuracy: 0.7187 - val_loss: 1.2462 - val_accuracy: 0.5846\n",
            "Epoch 49/100\n",
            "1563/1563 [==============================] - 11s 7ms/step - loss: 0.7970 - accuracy: 0.7210 - val_loss: 1.2568 - val_accuracy: 0.5786\n",
            "Epoch 50/100\n",
            "1563/1563 [==============================] - 11s 7ms/step - loss: 0.7875 - accuracy: 0.7255 - val_loss: 1.2313 - val_accuracy: 0.5900\n",
            "Epoch 51/100\n",
            "1563/1563 [==============================] - 11s 7ms/step - loss: 0.7801 - accuracy: 0.7294 - val_loss: 1.2908 - val_accuracy: 0.5800\n",
            "Epoch 52/100\n",
            "1563/1563 [==============================] - 11s 7ms/step - loss: 0.7726 - accuracy: 0.7302 - val_loss: 1.2884 - val_accuracy: 0.5736\n",
            "Epoch 53/100\n",
            "1563/1563 [==============================] - 11s 7ms/step - loss: 0.7651 - accuracy: 0.7337 - val_loss: 1.2516 - val_accuracy: 0.5853\n",
            "Epoch 54/100\n",
            "1563/1563 [==============================] - 11s 7ms/step - loss: 0.7547 - accuracy: 0.7376 - val_loss: 1.2712 - val_accuracy: 0.5844\n",
            "Epoch 55/100\n",
            "1563/1563 [==============================] - 11s 7ms/step - loss: 0.7475 - accuracy: 0.7408 - val_loss: 1.2841 - val_accuracy: 0.5749\n",
            "Epoch 56/100\n",
            "1563/1563 [==============================] - 11s 7ms/step - loss: 0.7393 - accuracy: 0.7418 - val_loss: 1.2712 - val_accuracy: 0.5828\n",
            "Epoch 57/100\n",
            "1563/1563 [==============================] - 11s 7ms/step - loss: 0.7308 - accuracy: 0.7468 - val_loss: 1.2853 - val_accuracy: 0.5877\n",
            "Epoch 58/100\n",
            "1563/1563 [==============================] - 11s 7ms/step - loss: 0.7246 - accuracy: 0.7491 - val_loss: 1.3003 - val_accuracy: 0.5774\n",
            "Epoch 59/100\n",
            "1563/1563 [==============================] - 11s 7ms/step - loss: 0.7168 - accuracy: 0.7520 - val_loss: 1.2960 - val_accuracy: 0.5845\n",
            "Epoch 60/100\n",
            "1563/1563 [==============================] - 11s 7ms/step - loss: 0.7080 - accuracy: 0.7546 - val_loss: 1.3376 - val_accuracy: 0.5756\n",
            "Epoch 61/100\n",
            "1563/1563 [==============================] - 11s 7ms/step - loss: 0.6999 - accuracy: 0.7584 - val_loss: 1.3092 - val_accuracy: 0.5827\n",
            "Epoch 62/100\n",
            "1563/1563 [==============================] - 11s 7ms/step - loss: 0.6937 - accuracy: 0.7608 - val_loss: 1.3067 - val_accuracy: 0.5806\n",
            "Epoch 63/100\n",
            "1563/1563 [==============================] - 11s 7ms/step - loss: 0.6861 - accuracy: 0.7618 - val_loss: 1.3393 - val_accuracy: 0.5712\n",
            "Epoch 64/100\n",
            "1563/1563 [==============================] - 11s 7ms/step - loss: 0.6773 - accuracy: 0.7658 - val_loss: 1.3397 - val_accuracy: 0.5720\n",
            "Epoch 65/100\n",
            "1563/1563 [==============================] - 12s 7ms/step - loss: 0.6703 - accuracy: 0.7687 - val_loss: 1.3708 - val_accuracy: 0.5710\n",
            "Epoch 66/100\n",
            "1563/1563 [==============================] - 11s 7ms/step - loss: 0.6633 - accuracy: 0.7689 - val_loss: 1.3514 - val_accuracy: 0.5771\n",
            "Epoch 67/100\n",
            "1563/1563 [==============================] - 11s 7ms/step - loss: 0.6557 - accuracy: 0.7735 - val_loss: 1.3621 - val_accuracy: 0.5782\n",
            "Epoch 68/100\n",
            "1563/1563 [==============================] - 11s 7ms/step - loss: 0.6487 - accuracy: 0.7787 - val_loss: 1.3722 - val_accuracy: 0.5789\n",
            "Epoch 69/100\n",
            "1563/1563 [==============================] - 11s 7ms/step - loss: 0.6406 - accuracy: 0.7778 - val_loss: 1.3845 - val_accuracy: 0.5744\n",
            "Epoch 70/100\n",
            "1563/1563 [==============================] - 12s 7ms/step - loss: 0.6331 - accuracy: 0.7831 - val_loss: 1.3994 - val_accuracy: 0.5705\n",
            "Epoch 71/100\n",
            "1563/1563 [==============================] - 11s 7ms/step - loss: 0.6274 - accuracy: 0.7826 - val_loss: 1.3997 - val_accuracy: 0.5735\n",
            "Epoch 72/100\n",
            "1563/1563 [==============================] - 12s 8ms/step - loss: 0.6184 - accuracy: 0.7872 - val_loss: 1.4026 - val_accuracy: 0.5698\n",
            "Epoch 73/100\n",
            "1563/1563 [==============================] - 11s 7ms/step - loss: 0.6113 - accuracy: 0.7891 - val_loss: 1.4207 - val_accuracy: 0.5676\n",
            "Epoch 74/100\n",
            "1563/1563 [==============================] - 11s 7ms/step - loss: 0.6052 - accuracy: 0.7912 - val_loss: 1.4564 - val_accuracy: 0.5651\n",
            "Epoch 75/100\n",
            "1563/1563 [==============================] - 11s 7ms/step - loss: 0.5964 - accuracy: 0.7943 - val_loss: 1.4540 - val_accuracy: 0.5644\n",
            "Epoch 76/100\n",
            "1563/1563 [==============================] - 11s 7ms/step - loss: 0.5891 - accuracy: 0.7971 - val_loss: 1.4521 - val_accuracy: 0.5703\n",
            "Epoch 77/100\n",
            "1563/1563 [==============================] - 11s 7ms/step - loss: 0.5826 - accuracy: 0.8004 - val_loss: 1.4484 - val_accuracy: 0.5650\n",
            "Epoch 78/100\n",
            "1563/1563 [==============================] - 11s 7ms/step - loss: 0.5772 - accuracy: 0.8007 - val_loss: 1.4420 - val_accuracy: 0.5713\n",
            "Epoch 79/100\n",
            "1563/1563 [==============================] - 12s 7ms/step - loss: 0.5684 - accuracy: 0.8050 - val_loss: 1.4833 - val_accuracy: 0.5633\n",
            "Epoch 80/100\n",
            "1563/1563 [==============================] - 11s 7ms/step - loss: 0.5647 - accuracy: 0.8052 - val_loss: 1.4712 - val_accuracy: 0.5652\n",
            "Epoch 81/100\n",
            "1563/1563 [==============================] - 11s 7ms/step - loss: 0.5561 - accuracy: 0.8095 - val_loss: 1.4955 - val_accuracy: 0.5678\n",
            "Epoch 82/100\n",
            "1563/1563 [==============================] - 12s 7ms/step - loss: 0.5496 - accuracy: 0.8125 - val_loss: 1.5064 - val_accuracy: 0.5606\n",
            "Epoch 83/100\n",
            "1563/1563 [==============================] - 11s 7ms/step - loss: 0.5435 - accuracy: 0.8144 - val_loss: 1.5046 - val_accuracy: 0.5651\n",
            "Epoch 84/100\n",
            "1563/1563 [==============================] - 11s 7ms/step - loss: 0.5363 - accuracy: 0.8181 - val_loss: 1.5546 - val_accuracy: 0.5623\n",
            "Epoch 85/100\n",
            "1563/1563 [==============================] - 11s 7ms/step - loss: 0.5291 - accuracy: 0.8190 - val_loss: 1.5539 - val_accuracy: 0.5601\n",
            "Epoch 86/100\n",
            "1563/1563 [==============================] - 11s 7ms/step - loss: 0.5225 - accuracy: 0.8227 - val_loss: 1.5616 - val_accuracy: 0.5595\n",
            "Epoch 87/100\n",
            "1563/1563 [==============================] - 11s 7ms/step - loss: 0.5150 - accuracy: 0.8239 - val_loss: 1.5876 - val_accuracy: 0.5637\n",
            "Epoch 88/100\n",
            "1563/1563 [==============================] - 11s 7ms/step - loss: 0.5089 - accuracy: 0.8280 - val_loss: 1.5824 - val_accuracy: 0.5588\n",
            "Epoch 89/100\n",
            "1563/1563 [==============================] - 12s 7ms/step - loss: 0.5014 - accuracy: 0.8299 - val_loss: 1.6227 - val_accuracy: 0.5564\n",
            "Epoch 90/100\n",
            "1563/1563 [==============================] - 11s 7ms/step - loss: 0.4989 - accuracy: 0.8303 - val_loss: 1.5802 - val_accuracy: 0.5612\n",
            "Epoch 91/100\n",
            "1563/1563 [==============================] - 11s 7ms/step - loss: 0.4897 - accuracy: 0.8341 - val_loss: 1.6051 - val_accuracy: 0.5621\n",
            "Epoch 92/100\n",
            "1563/1563 [==============================] - 11s 7ms/step - loss: 0.4833 - accuracy: 0.8371 - val_loss: 1.6194 - val_accuracy: 0.5611\n",
            "Epoch 93/100\n",
            "1563/1563 [==============================] - 11s 7ms/step - loss: 0.4775 - accuracy: 0.8390 - val_loss: 1.6587 - val_accuracy: 0.5525\n",
            "Epoch 94/100\n",
            "1563/1563 [==============================] - 11s 7ms/step - loss: 0.4721 - accuracy: 0.8388 - val_loss: 1.6472 - val_accuracy: 0.5564\n",
            "Epoch 95/100\n",
            "1563/1563 [==============================] - 11s 7ms/step - loss: 0.4665 - accuracy: 0.8408 - val_loss: 1.6546 - val_accuracy: 0.5579\n",
            "Epoch 96/100\n",
            "1563/1563 [==============================] - 11s 7ms/step - loss: 0.4571 - accuracy: 0.8468 - val_loss: 1.6787 - val_accuracy: 0.5552\n",
            "Epoch 97/100\n",
            "1563/1563 [==============================] - 12s 7ms/step - loss: 0.4534 - accuracy: 0.8469 - val_loss: 1.6968 - val_accuracy: 0.5577\n",
            "Epoch 98/100\n",
            "1563/1563 [==============================] - 11s 7ms/step - loss: 0.4466 - accuracy: 0.8491 - val_loss: 1.7252 - val_accuracy: 0.5565\n",
            "Epoch 99/100\n",
            "1563/1563 [==============================] - 12s 8ms/step - loss: 0.4378 - accuracy: 0.8550 - val_loss: 1.7327 - val_accuracy: 0.5547\n",
            "Epoch 100/100\n",
            "1563/1563 [==============================] - 11s 7ms/step - loss: 0.4325 - accuracy: 0.8552 - val_loss: 1.7325 - val_accuracy: 0.5578\n"
          ]
        },
        {
          "output_type": "display_data",
          "data": {
            "text/plain": [
              "VBox(children=(Label(value='12.578 MB of 12.578 MB uploaded (0.320 MB deduped)\\r'), FloatProgress(value=1.0, m…"
            ],
            "application/vnd.jupyter.widget-view+json": {
              "version_major": 2,
              "version_minor": 0,
              "model_id": "a9cdffb0aeb944ec80283c4efeecc0e4"
            }
          },
          "metadata": {}
        },
        {
          "output_type": "display_data",
          "data": {
            "text/plain": [
              "<IPython.core.display.HTML object>"
            ],
            "text/html": [
              "W&B sync reduced upload amount by 2.4%             "
            ]
          },
          "metadata": {}
        },
        {
          "output_type": "display_data",
          "data": {
            "text/plain": [
              "<IPython.core.display.HTML object>"
            ],
            "text/html": [
              "<style>\n",
              "    table.wandb td:nth-child(1) { padding: 0 10px; text-align: left ; width: auto;} td:nth-child(2) {text-align: left ; width: 100%}\n",
              "    .wandb-row { display: flex; flex-direction: row; flex-wrap: wrap; justify-content: flex-start; width: 100% }\n",
              "    .wandb-col { display: flex; flex-direction: column; flex-basis: 100%; flex: 1; padding: 10px; }\n",
              "    </style>\n",
              "<div class=\"wandb-row\"><div class=\"wandb-col\"><h3>Run history:</h3><br/><table class=\"wandb\"><tr><td>accuracy</td><td>▁▂▃▄▄▄▅▅▅▅▅▅▆▆▆▆▆▆▆▆▆▇▇▇▇▇▇▇▇▇▇▇▇███████</td></tr><tr><td>epoch</td><td>▁▁▁▁▂▂▂▂▂▃▃▃▃▃▃▄▄▄▄▄▅▅▅▅▅▅▆▆▆▆▆▇▇▇▇▇▇███</td></tr><tr><td>loss</td><td>█▇▆▅▅▅▄▄▄▄▄▄▃▃▃▃▃▃▃▃▃▃▂▂▂▂▂▂▂▂▂▂▂▁▁▁▁▁▁▁</td></tr><tr><td>val_accuracy</td><td>▁▃▅▅▆▆▇▇▇███▇████████████▇█▇▇▇▇▇▇▇▇▇▇▇▇▇</td></tr><tr><td>val_loss</td><td>█▆▄▃▂▂▁▂▁▁▁▁▁▁▁▁▁▁▂▂▂▂▂▂▂▃▃▃▃▄▄▄▅▅▆▆▆▆▇▇</td></tr></table><br/></div><div class=\"wandb-col\"><h3>Run summary:</h3><br/><table class=\"wandb\"><tr><td>accuracy</td><td>0.85516</td></tr><tr><td>best_epoch</td><td>26</td></tr><tr><td>best_val_loss</td><td>1.17547</td></tr><tr><td>epoch</td><td>99</td></tr><tr><td>loss</td><td>0.43247</td></tr><tr><td>val_accuracy</td><td>0.5578</td></tr><tr><td>val_loss</td><td>1.73247</td></tr></table><br/></div></div>"
            ]
          },
          "metadata": {}
        },
        {
          "output_type": "display_data",
          "data": {
            "text/plain": [
              "<IPython.core.display.HTML object>"
            ],
            "text/html": [
              " View run <strong style=\"color:#cdcd00\">ancient-feather-2</strong> at: <a href='https://wandb.ai/parani/LeNet-CIFAR10/runs/bpewd6fw' target=\"_blank\">https://wandb.ai/parani/LeNet-CIFAR10/runs/bpewd6fw</a><br/> View project at: <a href='https://wandb.ai/parani/LeNet-CIFAR10' target=\"_blank\">https://wandb.ai/parani/LeNet-CIFAR10</a><br/>Synced 5 W&B file(s), 1 media file(s), 100 artifact file(s) and 1 other file(s)"
            ]
          },
          "metadata": {}
        },
        {
          "output_type": "display_data",
          "data": {
            "text/plain": [
              "<IPython.core.display.HTML object>"
            ],
            "text/html": [
              "Find logs at: <code>./wandb/run-20240606_184851-bpewd6fw/logs</code>"
            ]
          },
          "metadata": {}
        }
      ]
    },
    {
      "cell_type": "code",
      "source": [
        "# Evaluate the model\n",
        "test_loss, test_acc = model.evaluate(x_test, y_test)\n",
        "print(f\"Test accuracy: {test_acc:.4f}\")"
      ],
      "metadata": {
        "colab": {
          "base_uri": "https://localhost:8080/"
        },
        "id": "os1jureu4lN8",
        "outputId": "b98da608-01ca-4699-c6c5-a7360fe53d85"
      },
      "execution_count": 22,
      "outputs": [
        {
          "output_type": "stream",
          "name": "stdout",
          "text": [
            "313/313 [==============================] - 1s 3ms/step - loss: 1.7325 - accuracy: 0.5578\n",
            "Test accuracy: 0.5578\n"
          ]
        }
      ]
    },
    {
      "cell_type": "code",
      "source": [
        "model.summary()"
      ],
      "metadata": {
        "colab": {
          "base_uri": "https://localhost:8080/"
        },
        "id": "1QawCYqj2lLm",
        "outputId": "ff677271-f603-497c-ba27-beaf90b9b614"
      },
      "execution_count": 23,
      "outputs": [
        {
          "output_type": "stream",
          "name": "stdout",
          "text": [
            "Model: \"sequential_1\"\n",
            "_________________________________________________________________\n",
            " Layer (type)                Output Shape              Param #   \n",
            "=================================================================\n",
            " conv2d_2 (Conv2D)           (None, 28, 28, 6)         456       \n",
            "                                                                 \n",
            " average_pooling2d_2 (Avera  (None, 14, 14, 6)         0         \n",
            " gePooling2D)                                                    \n",
            "                                                                 \n",
            " conv2d_3 (Conv2D)           (None, 10, 10, 16)        2416      \n",
            "                                                                 \n",
            " average_pooling2d_3 (Avera  (None, 5, 5, 16)          0         \n",
            " gePooling2D)                                                    \n",
            "                                                                 \n",
            " flatten_1 (Flatten)         (None, 400)               0         \n",
            "                                                                 \n",
            " dense_3 (Dense)             (None, 120)               48120     \n",
            "                                                                 \n",
            " dense_4 (Dense)             (None, 84)                10164     \n",
            "                                                                 \n",
            " dense_5 (Dense)             (None, 10)                850       \n",
            "                                                                 \n",
            "=================================================================\n",
            "Total params: 62006 (242.21 KB)\n",
            "Trainable params: 62006 (242.21 KB)\n",
            "Non-trainable params: 0 (0.00 Byte)\n",
            "_________________________________________________________________\n"
          ]
        }
      ]
    },
    {
      "cell_type": "code",
      "source": [
        "model.save('/content/drive/MyDrive/ml-ai/lenet-cifar10-1')"
      ],
      "metadata": {
        "id": "U6x-GEy63alT"
      },
      "execution_count": 24,
      "outputs": []
    }
  ]
}